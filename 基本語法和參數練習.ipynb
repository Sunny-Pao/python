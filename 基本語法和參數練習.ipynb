{
  "nbformat": 4,
  "nbformat_minor": 0,
  "metadata": {
    "colab": {
      "name": "Untitled3.ipynb",
      "provenance": [],
      "private_outputs": true,
      "authorship_tag": "ABX9TyMi1gkIo20q3SJKrlJhDOtW",
      "include_colab_link": true
    },
    "kernelspec": {
      "name": "python3",
      "display_name": "Python 3"
    }
  },
  "cells": [
    {
      "cell_type": "markdown",
      "metadata": {
        "id": "view-in-github",
        "colab_type": "text"
      },
      "source": [
        "<a href=\"https://colab.research.google.com/github/Sunny-Pao/python/blob/master/%E5%9F%BA%E6%9C%AC%E8%AA%9E%E6%B3%95%E5%92%8C%E5%8F%83%E6%95%B8%E7%B7%B4%E7%BF%92.ipynb\" target=\"_parent\"><img src=\"https://colab.research.google.com/assets/colab-badge.svg\" alt=\"Open In Colab\"/></a>"
      ]
    },
    {
      "cell_type": "code",
      "metadata": {
        "id": "698sRhHAX6sB",
        "colab_type": "code",
        "colab": {}
      },
      "source": [
        "a = 3\n",
        "b = 4\n",
        "if a > b : \n",
        "  print(\"a > b\")\n",
        " else: \n",
        "  print(\"a <= b\")"
      ],
      "execution_count": 0,
      "outputs": []
    }
  ]
}