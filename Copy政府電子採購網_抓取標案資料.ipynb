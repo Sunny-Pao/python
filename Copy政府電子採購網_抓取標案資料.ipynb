{
  "nbformat": 4,
  "nbformat_minor": 0,
  "metadata": {
    "kernelspec": {
      "display_name": "Python 3",
      "language": "python",
      "name": "python3"
    },
    "language_info": {
      "codemirror_mode": {
        "name": "ipython",
        "version": 3
      },
      "file_extension": ".py",
      "mimetype": "text/x-python",
      "name": "python",
      "nbconvert_exporter": "python",
      "pygments_lexer": "ipython3",
      "version": "3.7.1"
    },
    "colab": {
      "name": "Copy政府電子採購網 抓取標案資料.ipynb",
      "provenance": [],
      "include_colab_link": true
    }
  },
  "cells": [
    {
      "cell_type": "markdown",
      "metadata": {
        "id": "view-in-github",
        "colab_type": "text"
      },
      "source": [
        "<a href=\"https://colab.research.google.com/github/Sunny-Pao/python/blob/master/Copy%E6%94%BF%E5%BA%9C%E9%9B%BB%E5%AD%90%E6%8E%A1%E8%B3%BC%E7%B6%B2_%E6%8A%93%E5%8F%96%E6%A8%99%E6%A1%88%E8%B3%87%E6%96%99.ipynb\" target=\"_parent\"><img src=\"https://colab.research.google.com/assets/colab-badge.svg\" alt=\"Open In Colab\"/></a>"
      ]
    },
    {
      "cell_type": "markdown",
      "metadata": {
        "id": "bpzTM3TXeMq8",
        "colab_type": "text"
      },
      "source": [
        "# 政府電子採購網"
      ]
    },
    {
      "cell_type": "markdown",
      "metadata": {
        "id": "ky-LFg3OeMrA",
        "colab_type": "text"
      },
      "source": [
        "## 相關連結\n",
        "\n",
        "* [政府採購網標案全文檢索網址](http://web.pcc.gov.tw/prkms/prms-searchBulletionClient.do?root=tps)\n",
        "* [基金類別績效（ 晨星 ）](https://www.sitca.org.tw/ROC/Industry/IN2421.aspx)\n",
        "* [基金績效評比（ 晨星 ）](https://www.sitca.org.tw/ROC/Industry/IN2422.aspx)\n",
        "* [https://github.com/dong945/Python-Crawler](https://github.com/dong945/Python-Crawler)"
      ]
    },
    {
      "cell_type": "markdown",
      "metadata": {
        "id": "1rfEiAU0eMrC",
        "colab_type": "text"
      },
      "source": [
        "---"
      ]
    },
    {
      "cell_type": "code",
      "metadata": {
        "id": "V4gboCBneMrD",
        "colab_type": "code",
        "colab": {}
      },
      "source": [
        "import pandas as pd"
      ],
      "execution_count": 0,
      "outputs": []
    },
    {
      "cell_type": "markdown",
      "metadata": {
        "id": "_zqWxUqLeMrI",
        "colab_type": "text"
      },
      "source": [
        "## 讀取檢索結果"
      ]
    },
    {
      "cell_type": "code",
      "metadata": {
        "id": "N-XXCxVTeMrK",
        "colab_type": "code",
        "colab": {}
      },
      "source": [
        "FundCategoryUrl = 'https://www.sitca.org.tw/ROC/Industry/IN2421.aspx'"
      ],
      "execution_count": 0,
      "outputs": []
    },
    {
      "cell_type": "code",
      "metadata": {
        "id": "5MQSUTK4eMrO",
        "colab_type": "code",
        "colab": {}
      },
      "source": [
        "dfs = pd.read_html(FundCategoryUrl, encoding='utf8', skiprows=2)"
      ],
      "execution_count": 0,
      "outputs": []
    },
    {
      "cell_type": "code",
      "metadata": {
        "id": "mc8y7Fl5eMrT",
        "colab_type": "code",
        "outputId": "ef59bcf6-8cf0-4b93-d067-c33254b8ea9a",
        "colab": {
          "base_uri": "https://localhost:8080/",
          "height": 35
        }
      },
      "source": [
        "len(dfs)"
      ],
      "execution_count": 0,
      "outputs": [
        {
          "output_type": "execute_result",
          "data": {
            "text/plain": [
              "4"
            ]
          },
          "metadata": {
            "tags": []
          },
          "execution_count": 4
        }
      ]
    },
    {
      "cell_type": "code",
      "metadata": {
        "id": "OXOvvljNeiDJ",
        "colab_type": "code",
        "outputId": "0a581aa1-8ecc-450b-d5d4-46bf44a9053e",
        "colab": {
          "base_uri": "https://localhost:8080/",
          "height": 973
        }
      },
      "source": [
        "dfs[0]"
      ],
      "execution_count": 0,
      "outputs": [
        {
          "output_type": "execute_result",
          "data": {
            "text/html": [
              "<div>\n",
              "<style scoped>\n",
              "    .dataframe tbody tr th:only-of-type {\n",
              "        vertical-align: middle;\n",
              "    }\n",
              "\n",
              "    .dataframe tbody tr th {\n",
              "        vertical-align: top;\n",
              "    }\n",
              "\n",
              "    .dataframe thead th {\n",
              "        text-align: right;\n",
              "    }\n",
              "</style>\n",
              "<table border=\"1\" class=\"dataframe\">\n",
              "  <thead>\n",
              "    <tr style=\"text-align: right;\">\n",
              "      <th></th>\n",
              "      <th>0</th>\n",
              "      <th>1</th>\n",
              "      <th>2</th>\n",
              "      <th>3</th>\n",
              "      <th>4</th>\n",
              "      <th>5</th>\n",
              "      <th>6</th>\n",
              "      <th>7</th>\n",
              "      <th>8</th>\n",
              "      <th>9</th>\n",
              "      <th>10</th>\n",
              "      <th>11</th>\n",
              "    </tr>\n",
              "  </thead>\n",
              "  <tbody>\n",
              "    <tr>\n",
              "      <th>0</th>\n",
              "      <td>基金類別名稱報酬率(原幣別)年化標準差三年(原幣)Sharpe三年(原幣)  一個月三個月六...</td>\n",
              "      <td>NaN</td>\n",
              "      <td>NaN</td>\n",
              "      <td>NaN</td>\n",
              "      <td>NaN</td>\n",
              "      <td>NaN</td>\n",
              "      <td>NaN</td>\n",
              "      <td>NaN</td>\n",
              "      <td>NaN</td>\n",
              "      <td>NaN</td>\n",
              "      <td>NaN</td>\n",
              "      <td>NaN</td>\n",
              "    </tr>\n",
              "    <tr>\n",
              "      <th>1</th>\n",
              "      <td>基金類別名稱</td>\n",
              "      <td>報酬率(原幣別)</td>\n",
              "      <td>報酬率(原幣別)</td>\n",
              "      <td>報酬率(原幣別)</td>\n",
              "      <td>報酬率(原幣別)</td>\n",
              "      <td>報酬率(原幣別)</td>\n",
              "      <td>報酬率(原幣別)</td>\n",
              "      <td>報酬率(原幣別)</td>\n",
              "      <td>報酬率(原幣別)</td>\n",
              "      <td>報酬率(原幣別)</td>\n",
              "      <td>年化標準差三年(原幣)</td>\n",
              "      <td>Sharpe三年(原幣)</td>\n",
              "    </tr>\n",
              "    <tr>\n",
              "      <th>2</th>\n",
              "      <td>基金類別名稱</td>\n",
              "      <td>一個月</td>\n",
              "      <td>三個月</td>\n",
              "      <td>六個月</td>\n",
              "      <td>一年</td>\n",
              "      <td>二年</td>\n",
              "      <td>三年</td>\n",
              "      <td>五年</td>\n",
              "      <td>自今年以來</td>\n",
              "      <td>十年</td>\n",
              "      <td>年化標準差三年(原幣)</td>\n",
              "      <td>Sharpe三年(原幣)</td>\n",
              "    </tr>\n",
              "    <tr>\n",
              "      <th>3</th>\n",
              "      <td>大中華股票</td>\n",
              "      <td>-1.74</td>\n",
              "      <td>6.05</td>\n",
              "      <td>9.39</td>\n",
              "      <td>18.08</td>\n",
              "      <td>-7.99</td>\n",
              "      <td>35.91</td>\n",
              "      <td>33.28</td>\n",
              "      <td>-1.74</td>\n",
              "      <td>77.36</td>\n",
              "      <td>16.18</td>\n",
              "      <td>0.62</td>\n",
              "    </tr>\n",
              "    <tr>\n",
              "      <th>4</th>\n",
              "      <td>亞太區不包括日本股票</td>\n",
              "      <td>-3.42</td>\n",
              "      <td>1.82</td>\n",
              "      <td>3.03</td>\n",
              "      <td>7.1</td>\n",
              "      <td>-7.11</td>\n",
              "      <td>25.52</td>\n",
              "      <td>26.68</td>\n",
              "      <td>-3.42</td>\n",
              "      <td>73.49</td>\n",
              "      <td>12.7</td>\n",
              "      <td>0.47</td>\n",
              "    </tr>\n",
              "    <tr>\n",
              "      <th>...</th>\n",
              "      <td>...</td>\n",
              "      <td>...</td>\n",
              "      <td>...</td>\n",
              "      <td>...</td>\n",
              "      <td>...</td>\n",
              "      <td>...</td>\n",
              "      <td>...</td>\n",
              "      <td>...</td>\n",
              "      <td>...</td>\n",
              "      <td>...</td>\n",
              "      <td>...</td>\n",
              "      <td>...</td>\n",
              "    </tr>\n",
              "    <tr>\n",
              "      <th>173</th>\n",
              "      <td>太平洋區不包括日本股票</td>\n",
              "      <td>-1.79</td>\n",
              "      <td>1</td>\n",
              "      <td>-0.87</td>\n",
              "      <td>8.25</td>\n",
              "      <td>-0.89</td>\n",
              "      <td>22.04</td>\n",
              "      <td>25.99</td>\n",
              "      <td>-1.79</td>\n",
              "      <td>72.56</td>\n",
              "      <td>11.24</td>\n",
              "      <td>0.4</td>\n",
              "    </tr>\n",
              "    <tr>\n",
              "      <th>174</th>\n",
              "      <td>※報酬率以基金原始計價幣別計算一年以上期間為累積報酬率</td>\n",
              "      <td>NaN</td>\n",
              "      <td>NaN</td>\n",
              "      <td>NaN</td>\n",
              "      <td>NaN</td>\n",
              "      <td>NaN</td>\n",
              "      <td>NaN</td>\n",
              "      <td>NaN</td>\n",
              "      <td>NaN</td>\n",
              "      <td>NaN</td>\n",
              "      <td>NaN</td>\n",
              "      <td>NaN</td>\n",
              "    </tr>\n",
              "    <tr>\n",
              "      <th>175</th>\n",
              "      <td>NaN</td>\n",
              "      <td>NaN</td>\n",
              "      <td>NaN</td>\n",
              "      <td>NaN</td>\n",
              "      <td>NaN</td>\n",
              "      <td>NaN</td>\n",
              "      <td>NaN</td>\n",
              "      <td>NaN</td>\n",
              "      <td>NaN</td>\n",
              "      <td>NaN</td>\n",
              "      <td>NaN</td>\n",
              "      <td>NaN</td>\n",
              "    </tr>\n",
              "    <tr>\n",
              "      <th>176</th>\n",
              "      <td>©2014晨星有限公司。版權所有。晨星提供的資料：（1）為晨星及（或）其內容供應商的獨有資產...</td>\n",
              "      <td>NaN</td>\n",
              "      <td>NaN</td>\n",
              "      <td>NaN</td>\n",
              "      <td>NaN</td>\n",
              "      <td>NaN</td>\n",
              "      <td>NaN</td>\n",
              "      <td>NaN</td>\n",
              "      <td>NaN</td>\n",
              "      <td>NaN</td>\n",
              "      <td>NaN</td>\n",
              "      <td>NaN</td>\n",
              "    </tr>\n",
              "    <tr>\n",
              "      <th>177</th>\n",
              "      <td>.TBWL{width: 150px;} .TBWM{width: 60px;} .TBWS...</td>\n",
              "      <td>NaN</td>\n",
              "      <td>NaN</td>\n",
              "      <td>NaN</td>\n",
              "      <td>NaN</td>\n",
              "      <td>NaN</td>\n",
              "      <td>NaN</td>\n",
              "      <td>NaN</td>\n",
              "      <td>NaN</td>\n",
              "      <td>NaN</td>\n",
              "      <td>NaN</td>\n",
              "      <td>NaN</td>\n",
              "    </tr>\n",
              "  </tbody>\n",
              "</table>\n",
              "<p>178 rows × 12 columns</p>\n",
              "</div>"
            ],
            "text/plain": [
              "                                                    0   ...            11\n",
              "0    基金類別名稱報酬率(原幣別)年化標準差三年(原幣)Sharpe三年(原幣)  一個月三個月六...  ...           NaN\n",
              "1                                               基金類別名稱  ...  Sharpe三年(原幣)\n",
              "2                                               基金類別名稱  ...  Sharpe三年(原幣)\n",
              "3                                                大中華股票  ...          0.62\n",
              "4                                           亞太區不包括日本股票  ...          0.47\n",
              "..                                                 ...  ...           ...\n",
              "173                                        太平洋區不包括日本股票  ...           0.4\n",
              "174                        ※報酬率以基金原始計價幣別計算一年以上期間為累積報酬率  ...           NaN\n",
              "175                                                NaN  ...           NaN\n",
              "176  ©2014晨星有限公司。版權所有。晨星提供的資料：（1）為晨星及（或）其內容供應商的獨有資產...  ...           NaN\n",
              "177  .TBWL{width: 150px;} .TBWM{width: 60px;} .TBWS...  ...           NaN\n",
              "\n",
              "[178 rows x 12 columns]"
            ]
          },
          "metadata": {
            "tags": []
          },
          "execution_count": 5
        }
      ]
    },
    {
      "cell_type": "code",
      "metadata": {
        "id": "gw_pYkVveMrX",
        "colab_type": "code",
        "colab": {}
      },
      "source": [
        "dfs[4].head()"
      ],
      "execution_count": 0,
      "outputs": []
    },
    {
      "cell_type": "code",
      "metadata": {
        "id": "HuR_4H5YeMre",
        "colab_type": "code",
        "colab": {}
      },
      "source": [
        "df = dfs[4]"
      ],
      "execution_count": 0,
      "outputs": []
    },
    {
      "cell_type": "code",
      "metadata": {
        "id": "a1FXWB69eMrj",
        "colab_type": "code",
        "colab": {}
      },
      "source": [
        "df.info()"
      ],
      "execution_count": 0,
      "outputs": []
    },
    {
      "cell_type": "code",
      "metadata": {
        "id": "-zXYSrtyeMrm",
        "colab_type": "code",
        "colab": {}
      },
      "source": [
        "df.columns = ['基金類別名稱','1個月','3個月','6個月','1年','2年','3年','5年','今年以來','十年','年化標準差(三年)','Sharpe(三年)']"
      ],
      "execution_count": 0,
      "outputs": []
    },
    {
      "cell_type": "code",
      "metadata": {
        "id": "9GAzIcPmeMrr",
        "colab_type": "code",
        "colab": {}
      },
      "source": [
        "df.head()"
      ],
      "execution_count": 0,
      "outputs": []
    },
    {
      "cell_type": "markdown",
      "metadata": {
        "id": "-hMZJMLXeMrw",
        "colab_type": "text"
      },
      "source": [
        "---"
      ]
    },
    {
      "cell_type": "markdown",
      "metadata": {
        "id": "HM_kmKhJeMrx",
        "colab_type": "text"
      },
      "source": [
        "## 讀取同一類別基金績效"
      ]
    },
    {
      "cell_type": "code",
      "metadata": {
        "id": "SHhZSyeReMry",
        "colab_type": "code",
        "colab": {}
      },
      "source": [
        "FundUrl = 'https://www.sitca.org.tw/ROC/Industry/IN2422.aspx?txtYEAR=2019&txtMONTH=09&txtGROUPID=EUCA000500'"
      ],
      "execution_count": 0,
      "outputs": []
    },
    {
      "cell_type": "code",
      "metadata": {
        "id": "r3KXSwEaeMr2",
        "colab_type": "code",
        "colab": {}
      },
      "source": [
        "dfs = pd.read_html(FundUrl, encoding='utf8',skiprows=2)"
      ],
      "execution_count": 0,
      "outputs": []
    },
    {
      "cell_type": "code",
      "metadata": {
        "id": "H7GFycKOeMr5",
        "colab_type": "code",
        "colab": {}
      },
      "source": [
        "len(dfs)"
      ],
      "execution_count": 0,
      "outputs": []
    },
    {
      "cell_type": "code",
      "metadata": {
        "id": "ntts9EwceMr8",
        "colab_type": "code",
        "colab": {}
      },
      "source": [
        "dfs[6].head()"
      ],
      "execution_count": 0,
      "outputs": []
    },
    {
      "cell_type": "code",
      "metadata": {
        "id": "MaxHIGkMeMr_",
        "colab_type": "code",
        "colab": {}
      },
      "source": [
        "# 刪掉最左邊的 checkbox 那一欄\n",
        "df = dfs[6].drop(0, axis=1)"
      ],
      "execution_count": 0,
      "outputs": []
    },
    {
      "cell_type": "code",
      "metadata": {
        "id": "ZFFqgYojeMsG",
        "colab_type": "code",
        "colab": {}
      },
      "source": [
        "df.head()"
      ],
      "execution_count": 0,
      "outputs": []
    },
    {
      "cell_type": "code",
      "metadata": {
        "id": "96VQixCgeMsJ",
        "colab_type": "code",
        "colab": {}
      },
      "source": [
        "df.info()"
      ],
      "execution_count": 0,
      "outputs": []
    },
    {
      "cell_type": "code",
      "metadata": {
        "id": "cMm4LaVheMsM",
        "colab_type": "code",
        "colab": {}
      },
      "source": [
        "df.columns = ['基金名稱','基金英文名稱','1個月','3個月','6個月','1年','2年','3年','5年','今年以來','十年','年化標準差(三年)','Sharpe(三年)']"
      ],
      "execution_count": 0,
      "outputs": []
    },
    {
      "cell_type": "code",
      "metadata": {
        "id": "2l84NBGteMsP",
        "colab_type": "code",
        "colab": {}
      },
      "source": [
        "df.head()"
      ],
      "execution_count": 0,
      "outputs": []
    }
  ]
}