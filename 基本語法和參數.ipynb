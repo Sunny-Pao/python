{
  "nbformat": 4,
  "nbformat_minor": 0,
  "metadata": {
    "colab": {
      "name": "基本語法和參數.ipynb",
      "provenance": [],
      "private_outputs": true,
      "collapsed_sections": [],
      "authorship_tag": "ABX9TyOoIqIMAurA9m6TLLCjxxjt",
      "include_colab_link": true
    },
    "kernelspec": {
      "name": "python3",
      "display_name": "Python 3"
    },
    "accelerator": "GPU"
  },
  "cells": [
    {
      "cell_type": "markdown",
      "metadata": {
        "id": "view-in-github",
        "colab_type": "text"
      },
      "source": [
        "<a href=\"https://colab.research.google.com/github/Sunny-Pao/python/blob/master/%E5%9F%BA%E6%9C%AC%E8%AA%9E%E6%B3%95%E5%92%8C%E5%8F%83%E6%95%B8.ipynb\" target=\"_parent\"><img src=\"https://colab.research.google.com/assets/colab-badge.svg\" alt=\"Open In Colab\"/></a>"
      ]
    },
    {
      "cell_type": "code",
      "metadata": {
        "id": "698sRhHAX6sB",
        "colab_type": "code",
        "colab": {}
      },
      "source": [
        "a = 3\n",
        "b = 3\n",
        "if a > b : \n",
        "  print(\"a > b\")\n",
        "elif a < b :\n",
        "  print(\"a < b\")\n",
        "else: \n",
        "  print(\"a <= b\")"
      ],
      "execution_count": 0,
      "outputs": []
    },
    {
      "cell_type": "code",
      "metadata": {
        "id": "gFJZOZPsave1",
        "colab_type": "code",
        "colab": {}
      },
      "source": [
        "x = list(\"abcde\")\n"
      ],
      "execution_count": 0,
      "outputs": []
    },
    {
      "cell_type": "code",
      "metadata": {
        "id": "P8-hhDXMa_Ix",
        "colab_type": "code",
        "colab": {}
      },
      "source": [
        " for i in x:\n",
        "   if i == 'c':\n",
        "     break\n",
        "   print(i)"
      ],
      "execution_count": 0,
      "outputs": []
    },
    {
      "cell_type": "code",
      "metadata": {
        "id": "PGnpzKeXbpku",
        "colab_type": "code",
        "colab": {}
      },
      "source": [
        "c = 1 \n",
        "while c < 10:\n",
        "  print(c)\n",
        "  c += 1"
      ],
      "execution_count": 0,
      "outputs": []
    },
    {
      "cell_type": "code",
      "metadata": {
        "id": "NOBbNI7rdA57",
        "colab_type": "code",
        "colab": {}
      },
      "source": [
        "for i in range(10):\n",
        "  print(i)\n"
      ],
      "execution_count": 0,
      "outputs": []
    },
    {
      "cell_type": "code",
      "metadata": {
        "id": "VfEl9mA9dXHI",
        "colab_type": "code",
        "colab": {}
      },
      "source": [
        "list (range(10))"
      ],
      "execution_count": 0,
      "outputs": []
    },
    {
      "cell_type": "code",
      "metadata": {
        "id": "3afVQelcdjrI",
        "colab_type": "code",
        "colab": {}
      },
      "source": [
        "def f(x):\n",
        "  return x**2"
      ],
      "execution_count": 0,
      "outputs": []
    },
    {
      "cell_type": "code",
      "metadata": {
        "id": "YCV5hJckdu_0",
        "colab_type": "code",
        "colab": {}
      },
      "source": [
        "f(10)"
      ],
      "execution_count": 0,
      "outputs": []
    },
    {
      "cell_type": "code",
      "metadata": {
        "id": "CZ6olNRJesOg",
        "colab_type": "code",
        "colab": {}
      },
      "source": [
        "def greetings():\n",
        "  print(\"Hello\")"
      ],
      "execution_count": 0,
      "outputs": []
    },
    {
      "cell_type": "code",
      "metadata": {
        "id": "AiMFS1Q1e20h",
        "colab_type": "code",
        "colab": {}
      },
      "source": [
        "greetings()"
      ],
      "execution_count": 0,
      "outputs": []
    },
    {
      "cell_type": "code",
      "metadata": {
        "id": "6Ui4PfdUfx5q",
        "colab_type": "code",
        "colab": {}
      },
      "source": [
        "def add(a, b):\n",
        "  print(\"a + b =\", a + b)\n",
        "\n",
        "def sub(a, b):\n",
        "  print(\"a - b =\", a - b)\n",
        "\n",
        "def mul(a, b):\n",
        "  print(\"a * b =\", a * b)\n",
        "\n",
        "def div(a, b):\n",
        "  print(\"a / b =\", a / b)\n"
      ],
      "execution_count": 0,
      "outputs": []
    },
    {
      "cell_type": "code",
      "metadata": {
        "id": "tyavTx0Qg7uk",
        "colab_type": "code",
        "colab": {}
      },
      "source": [
        "x = [add, sub, div, mul]"
      ],
      "execution_count": 0,
      "outputs": []
    },
    {
      "cell_type": "code",
      "metadata": {
        "id": "ikwUfdlhhC35",
        "colab_type": "code",
        "colab": {}
      },
      "source": [
        "a = 3\n",
        "b = 0\n",
        "\n",
        "for i in x:\n",
        "  try:\n",
        "    i(a, b)\n",
        "  except Exception as e:\n",
        "    print(e.args）"
      ],
      "execution_count": 0,
      "outputs": []
    },
    {
      "cell_type": "code",
      "metadata": {
        "id": "hSx1U6O0jH9V",
        "colab_type": "code",
        "colab": {}
      },
      "source": [
        ""
      ],
      "execution_count": 0,
      "outputs": []
    }
  ]
}