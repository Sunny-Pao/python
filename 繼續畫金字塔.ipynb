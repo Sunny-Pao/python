{
  "nbformat": 4,
  "nbformat_minor": 0,
  "metadata": {
    "kernelspec": {
      "display_name": "Python 3",
      "language": "python",
      "name": "python3"
    },
    "language_info": {
      "codemirror_mode": {
        "name": "ipython",
        "version": 3
      },
      "file_extension": ".py",
      "mimetype": "text/x-python",
      "name": "python",
      "nbconvert_exporter": "python",
      "pygments_lexer": "ipython3",
      "version": "3.7.1"
    },
    "colab": {
      "name": "繼續畫金字塔.ipynb",
      "provenance": [],
      "include_colab_link": true
    }
  },
  "cells": [
    {
      "cell_type": "markdown",
      "metadata": {
        "id": "view-in-github",
        "colab_type": "text"
      },
      "source": [
        "<a href=\"https://colab.research.google.com/github/Sunny-Pao/python/blob/master/%E7%B9%BC%E7%BA%8C%E7%95%AB%E9%87%91%E5%AD%97%E5%A1%94.ipynb\" target=\"_parent\"><img src=\"https://colab.research.google.com/assets/colab-badge.svg\" alt=\"Open In Colab\"/></a>"
      ]
    },
    {
      "cell_type": "markdown",
      "metadata": {
        "id": "Ga_qDqcDy9Wv",
        "colab_type": "text"
      },
      "source": [
        "## 【練習】\n",
        "\n",
        "請寫一函式，讀入一個整數，輸出整數高度的金字塔。\n",
        "\n",
        "執行： pyramid(3)\n",
        "\n",
        "輸出：\n",
        "\n",
        "      *\n",
        "     ***\n",
        "    *****\n",
        "\n",
        "執行： pyramid(5)\n",
        "\n",
        "輸出：\n",
        "\n",
        "        *\n",
        "       ***\n",
        "      *****\n",
        "     *******\n",
        "    *********"
      ]
    },
    {
      "cell_type": "code",
      "metadata": {
        "id": "x7n4N26ry9W0",
        "colab_type": "code",
        "colab": {}
      },
      "source": [
        "def pyramid(h):\n",
        "    pass"
      ],
      "execution_count": 0,
      "outputs": []
    }
  ]
}