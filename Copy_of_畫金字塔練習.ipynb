{
  "nbformat": 4,
  "nbformat_minor": 0,
  "metadata": {
    "kernelspec": {
      "display_name": "Python 3",
      "language": "python",
      "name": "python3"
    },
    "language_info": {
      "codemirror_mode": {
        "name": "ipython",
        "version": 3
      },
      "file_extension": ".py",
      "mimetype": "text/x-python",
      "name": "python",
      "nbconvert_exporter": "python",
      "pygments_lexer": "ipython3",
      "version": "3.7.1"
    },
    "colab": {
      "name": "Copy_of_畫金字塔練習.ipynb",
      "provenance": [],
      "include_colab_link": true
    }
  },
  "cells": [
    {
      "cell_type": "markdown",
      "metadata": {
        "id": "view-in-github",
        "colab_type": "text"
      },
      "source": [
        "<a href=\"https://colab.research.google.com/github/Sunny-Pao/python/blob/master/Copy_of_%E7%95%AB%E9%87%91%E5%AD%97%E5%A1%94%E7%B7%B4%E7%BF%92.ipynb\" target=\"_parent\"><img src=\"https://colab.research.google.com/assets/colab-badge.svg\" alt=\"Open In Colab\"/></a>"
      ]
    },
    {
      "cell_type": "markdown",
      "metadata": {
        "id": "qyZw5rrnrDeN",
        "colab_type": "text"
      },
      "source": [
        " ## 【練習】\n",
        "\n",
        "使用 for 迴圈畫出一個金字塔！\n",
        "\n",
        "        *\n",
        "       ***\n",
        "      *****\n",
        "     *******\n",
        "    *********"
      ]
    },
    {
      "cell_type": "code",
      "metadata": {
        "id": "Fhwq6izWrGpJ",
        "colab_type": "code",
        "colab": {}
      },
      "source": [
        "x = 'abcdefghij'\n"
      ],
      "execution_count": 0,
      "outputs": []
    },
    {
      "cell_type": "code",
      "metadata": {
        "id": "Gez3PDnhtODk",
        "colab_type": "code",
        "colab": {}
      },
      "source": [
        "n =\"123\""
      ],
      "execution_count": 0,
      "outputs": []
    },
    {
      "cell_type": "code",
      "metadata": {
        "id": "XZVbGCLQtkpZ",
        "colab_type": "code",
        "outputId": "5ec50a64-9599-4d22-9153-6069dc2ae881",
        "colab": {
          "base_uri": "https://localhost:8080/",
          "height": 34
        }
      },
      "source": [
        "x + n"
      ],
      "execution_count": 0,
      "outputs": [
        {
          "output_type": "execute_result",
          "data": {
            "text/plain": [
              "'abcdefghij123'"
            ]
          },
          "metadata": {
            "tags": []
          },
          "execution_count": 5
        }
      ]
    },
    {
      "cell_type": "code",
      "metadata": {
        "id": "nLq7B-Xut04D",
        "colab_type": "code",
        "outputId": "ecabcac9-d9b6-45cd-885b-ea111b16bd73",
        "colab": {
          "base_uri": "https://localhost:8080/",
          "height": 34
        }
      },
      "source": [
        "x * 3"
      ],
      "execution_count": 0,
      "outputs": [
        {
          "output_type": "execute_result",
          "data": {
            "text/plain": [
              "'abcdefghijabcdefghijabcdefghij'"
            ]
          },
          "metadata": {
            "tags": []
          },
          "execution_count": 7
        }
      ]
    },
    {
      "cell_type": "code",
      "metadata": {
        "id": "ae9BPTS1sKQu",
        "colab_type": "code",
        "colab": {}
      },
      "source": [
        "for i in x:\n",
        "   if i == 'c':\n",
        "     break\n",
        "   print(i)"
      ],
      "execution_count": 0,
      "outputs": []
    },
    {
      "cell_type": "code",
      "metadata": {
        "id": "v_D2P-ZOsb-C",
        "colab_type": "code",
        "colab": {}
      },
      "source": [
        "c = 1 \n",
        "while c < 10:\n",
        "  print(c)\n",
        "  c += 1"
      ],
      "execution_count": 0,
      "outputs": []
    },
    {
      "cell_type": "code",
      "metadata": {
        "id": "RHQuhPJbstLL",
        "colab_type": "code",
        "outputId": "462ec367-bd40-4fe3-e000-e2b542cb4e3f",
        "colab": {
          "base_uri": "https://localhost:8080/",
          "height": 34
        }
      },
      "source": [
        "'*' * 10"
      ],
      "execution_count": 0,
      "outputs": [
        {
          "output_type": "execute_result",
          "data": {
            "text/plain": [
              "'**********'"
            ]
          },
          "metadata": {
            "tags": []
          },
          "execution_count": 8
        }
      ]
    },
    {
      "cell_type": "code",
      "metadata": {
        "id": "_iD8W6VNuJ-G",
        "colab_type": "code",
        "outputId": "597c34d8-2de7-494c-ae9a-d237007057f6",
        "colab": {
          "base_uri": "https://localhost:8080/",
          "height": 187
        }
      },
      "source": [
        "for i in range(10):\n",
        "  print(i)"
      ],
      "execution_count": 0,
      "outputs": [
        {
          "output_type": "stream",
          "text": [
            "0\n",
            "1\n",
            "2\n",
            "3\n",
            "4\n",
            "5\n",
            "6\n",
            "7\n",
            "8\n",
            "9\n"
          ],
          "name": "stdout"
        }
      ]
    },
    {
      "cell_type": "code",
      "metadata": {
        "id": "n-l4nrdCupEs",
        "colab_type": "code",
        "outputId": "27543d85-812e-4a5c-d02a-54b309504d39",
        "colab": {
          "base_uri": "https://localhost:8080/",
          "height": 119
        }
      },
      "source": [
        "for i in range(6):\n",
        "  print(\" \"*(6-i)+ (2*i+1)*\"*\")"
      ],
      "execution_count": 1,
      "outputs": [
        {
          "output_type": "stream",
          "text": [
            "      *\n",
            "     ***\n",
            "    *****\n",
            "   *******\n",
            "  *********\n",
            " ***********\n"
          ],
          "name": "stdout"
        }
      ]
    },
    {
      "cell_type": "code",
      "metadata": {
        "id": "YZ5GhxeAuJ77",
        "colab_type": "code",
        "colab": {}
      },
      "source": [
        ""
      ],
      "execution_count": 0,
      "outputs": []
    }
  ]
}